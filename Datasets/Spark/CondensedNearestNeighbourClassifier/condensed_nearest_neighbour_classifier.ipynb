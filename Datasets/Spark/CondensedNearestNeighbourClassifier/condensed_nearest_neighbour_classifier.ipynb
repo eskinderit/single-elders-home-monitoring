{
 "cells": [
  {
   "cell_type": "code",
   "execution_count": 2,
   "id": "3cdc7ffb",
   "metadata": {},
   "outputs": [],
   "source": [
    "import csv\n",
    "import functools as ft"
   ]
  },
  {
   "cell_type": "code",
   "execution_count": 144,
   "id": "5d9371c7",
   "metadata": {},
   "outputs": [],
   "source": [
    "def sq_sum(x):\n",
    "  return sum((y ** 2 for y in x))\n",
    "\n",
    "def sq_dist(x, y):\n",
    "  return sq_sum((z[0] - z[1] for z in zip(x, y)))"
   ]
  },
  {
   "cell_type": "markdown",
   "id": "01555662",
   "metadata": {},
   "source": [
    "The nearest neighbour classification rule"
   ]
  },
  {
   "cell_type": "code",
   "execution_count": 70,
   "id": "51ae982e",
   "metadata": {},
   "outputs": [],
   "source": [
    "def nn_predict(x, patterns):\n",
    "    '''Return the nearest neighbour class prediction of pattern p with respect to example set patterns.'''\n",
    "    distances = map(lambda p: [p[0], sq_dist(x, p[1:-1]), p[-1]], patterns)\n",
    "    nearest = ft.reduce(lambda a, b: min(a, b, key=lambda k: k[1]), distances)\n",
    "    return nearest[-1]"
   ]
  },
  {
   "cell_type": "markdown",
   "id": "1f6c040d",
   "metadata": {},
   "source": [
    "Create the input RDD from a CSV text file and convert to "
   ]
  },
  {
   "cell_type": "code",
   "execution_count": 178,
   "id": "e9d4cfbc",
   "metadata": {},
   "outputs": [],
   "source": [
    "patterns = sc.textFile('spline_boundary_enum.csv').map(lambda line: [int(line.split(',')[0])] + [float(x) for x in line.split(',')[1:-1]] + [int(line.split(',')[-1])])"
   ]
  },
  {
   "cell_type": "markdown",
   "id": "a0dfcd54",
   "metadata": {},
   "source": [
    "Generate the reduced set of examples: Until no examples are predicted as having a class that differs from the true class with respect to the reduced set of examples, for each pattern predict its class and add it to the reduced set if the predicted class differs from the true class.  The final number of examples in the reduced set is influenced by the number of random samples in the initial reduced set."
   ]
  },
  {
   "cell_type": "code",
   "execution_count": 192,
   "id": "53a76ed1",
   "metadata": {},
   "outputs": [],
   "source": [
    "reduced_set = patterns.takeSample(False, 100, 2)\n",
    "while True:\n",
    "    errors = patterns.filter(lambda p: (nn_predict(p[1:-1], reduced_set) != p[-1]))    \n",
    "    if errors.count():\n",
    "        reduced_set += errors.collect()\n",
    "    else:\n",
    "        break"
   ]
  }
 ],
 "metadata": {
  "kernelspec": {
   "display_name": "Python 3 (ipykernel)",
   "language": "python",
   "name": "python3"
  },
  "language_info": {
   "codemirror_mode": {
    "name": "ipython",
    "version": 3
   },
   "file_extension": ".py",
   "mimetype": "text/x-python",
   "name": "python",
   "nbconvert_exporter": "python",
   "pygments_lexer": "ipython3",
   "version": "3.10.6"
  }
 },
 "nbformat": 4,
 "nbformat_minor": 5
}
