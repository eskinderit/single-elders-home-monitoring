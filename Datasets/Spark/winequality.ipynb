{
 "cells": [
  {
   "cell_type": "markdown",
   "metadata": {},
   "source": [
    "Code based on: Bowles, M. (2019). Machine Learning with Spark and Python: Essential Techniques for Predictive Analytics. John Wiley & Sons."
   ]
  },
  {
   "cell_type": "code",
   "execution_count": null,
   "metadata": {},
   "outputs": [],
   "source": [
    "import matplotlib.pyplot as plt\n",
    "import pandas as pd\n",
    "from pandas import DataFrame\n",
    "from pyspark.sql import SparkSession\n",
    "from pyspark.ml.feature import VectorAssembler, StandardScaler\n",
    "from pyspark.ml.regression import LinearRegression"
   ]
  },
  {
   "cell_type": "code",
   "execution_count": null,
   "metadata": {},
   "outputs": [],
   "source": [
    "spark = SparkSession.builder.appName(\"winequality\").getOrCreate()"
   ]
  },
  {
   "cell_type": "code",
   "execution_count": null,
   "metadata": {},
   "outputs": [],
   "source": [
    "from pyspark.sql.types import StructType,StructField,DoubleType\n",
    "wineq_schema = StructType([\\\n",
    "    StructField(\"FAcid\",DoubleType(),True),    # 1 - fixed acidity\t\t\t  \n",
    "    StructField(\"VAcid\",DoubleType(),True),    # 2 - volatile acidity\t\t\t  \n",
    "    StructField(\"Citr\",DoubleType(),True),     # 3 - citric acid\t\t\t  \n",
    "    StructField(\"ReSug\",DoubleType(),True),    # 4 - residual sugar\t\t\t  \n",
    "    StructField(\"Chlo\",DoubleType(),True),     # 5 - chlorides\t\t\t\t  \n",
    "    StructField(\"FrSO2\",DoubleType(),True),    # 6 - free sulfur dioxide\t\t  \n",
    "    StructField(\"TSO2\",DoubleType(),True),     # 7 - total sulfur dioxide\t\t  \n",
    "    StructField(\"Den\",DoubleType(),True),      # 8 - density\t\t\t\t  \n",
    "    StructField(\"pH\",DoubleType(),True),       # 9 - pH\t\t\t\t  \n",
    "    StructField(\"Sulph\",DoubleType(),True),    # 10 - sulphates\t\t\t  \n",
    "    StructField(\"Alc\",DoubleType(),True),      # 11 - alcohol\t\t\t\t  \n",
    "    StructField(\"Qual\",DoubleType(),True)])    # 12 - quality (score between 0 and 10)\n",
    "wineq = spark.read.format(\"csv\").option(\"header\", \"True\").option(\"sep\", \";\")\\\n",
    "        .schema(wineq_schema)\\\n",
    "        .load(\"Data/winequality/winequality-red.csv\")"
   ]
  },
  {
   "cell_type": "code",
   "execution_count": null,
   "metadata": {
    "scrolled": true
   },
   "outputs": [],
   "source": [
    "wineq.show(3)"
   ]
  },
  {
   "cell_type": "code",
   "execution_count": null,
   "metadata": {},
   "outputs": [],
   "source": [
    "vecAssembler = VectorAssembler(outputCol=\"features\")"
   ]
  },
  {
   "cell_type": "code",
   "execution_count": null,
   "metadata": {},
   "outputs": [],
   "source": [
    "vecAssembler.setInputCols([\"FAcid\",\"VAcid\",\"Citr\",\"ReSug\",\"Chlo\",\"FrSO2\",\"TSO2\",\"Den\",\"pH\",\"Sulph\",\"Alc\"])"
   ]
  },
  {
   "cell_type": "code",
   "execution_count": null,
   "metadata": {},
   "outputs": [],
   "source": [
    "v_wineq = vecAssembler.transform(wineq)"
   ]
  },
  {
   "cell_type": "code",
   "execution_count": null,
   "metadata": {},
   "outputs": [],
   "source": [
    "v_wineq.show(3)"
   ]
  },
  {
   "cell_type": "code",
   "execution_count": null,
   "metadata": {},
   "outputs": [],
   "source": [
    "normaliser = StandardScaler(inputCol=\"features\", outputCol=\"normFeatures\")\n",
    "normModel = normaliser.fit(v_wineq)"
   ]
  },
  {
   "cell_type": "code",
   "execution_count": null,
   "metadata": {},
   "outputs": [],
   "source": [
    "wineq_norm = normModel.transform(v_wineq)"
   ]
  },
  {
   "cell_type": "code",
   "execution_count": null,
   "metadata": {},
   "outputs": [],
   "source": [
    "wineq_norm.show(3)"
   ]
  },
  {
   "cell_type": "code",
   "execution_count": null,
   "metadata": {},
   "outputs": [],
   "source": [
    "inp_wineq_norm = wineq_norm.select([\"normFeatures\", \"Qual\"])"
   ]
  },
  {
   "cell_type": "code",
   "execution_count": null,
   "metadata": {},
   "outputs": [],
   "source": [
    "inp_wineq_norm.show(3)"
   ]
  },
  {
   "cell_type": "code",
   "execution_count": null,
   "metadata": {},
   "outputs": [],
   "source": [
    "train, test = inp_wineq_norm.randomSplit([0.67, 0.33])"
   ]
  },
  {
   "cell_type": "code",
   "execution_count": null,
   "metadata": {},
   "outputs": [],
   "source": [
    "lambda_pars = [1., .1, .01, .001, .0001, .00001, .000001]"
   ]
  },
  {
   "cell_type": "code",
   "execution_count": null,
   "metadata": {},
   "outputs": [],
   "source": [
    "weights = list()\n",
    "intercepts = list()\n",
    "RMSE = list()\n",
    "for lambda_par in lambda_pars:\n",
    "    ridge = LinearRegression(featuresCol = \"normFeatures\", labelCol='Qual', maxIter=100, regParam=lambda_par, elasticNetParam=0.0)\n",
    "    ridge_mod = ridge.fit(train)\n",
    "    eval_res = ridge_mod.evaluate(test)\n",
    "    RMSE.append(eval_res.rootMeanSquaredError)\n",
    "    mod_weights = ridge_mod.coefficients.toArray()\n",
    "    weights.append(mod_weights)\n",
    "    intercepts.append(ridge_mod.intercept)"
   ]
  },
  {
   "cell_type": "code",
   "execution_count": null,
   "metadata": {},
   "outputs": [],
   "source": [
    "print('{:18}'.format(\"RMSE\"), \"lambda\") \n",
    "for i in range(len(RMSE)):   \n",
    "    print(RMSE[i], lambda_pars[i])"
   ]
  },
  {
   "cell_type": "code",
   "execution_count": null,
   "metadata": {},
   "outputs": [],
   "source": [
    "n_weights = len(weights[0])\n",
    "ordered_idx = sorted(zip(range(n_weights), weights[2]), key=lambda x: -abs(x[1]))\n",
    "for (a,b) in ordered_idx:\n",
    "    print(wineq.columns[a])"
   ]
  },
  {
   "cell_type": "code",
   "execution_count": null,
   "metadata": {
    "scrolled": true
   },
   "outputs": [],
   "source": [
    "x = range(len(RMSE))\n",
    "plt.plot(x, RMSE, 'r')\n",
    "plt.xlabel('-log lambda')\n",
    "plt.ylabel('RMSE')\n",
    "plt.savefig(\"../Plots/winequality_regression.png\", dpi=600)\n",
    "plt.show()"
   ]
  }
 ],
 "metadata": {
  "kernelspec": {
   "display_name": "Python 3",
   "language": "python",
   "name": "python3"
  },
  "language_info": {
   "codemirror_mode": {
    "name": "ipython",
    "version": 3
   },
   "file_extension": ".py",
   "mimetype": "text/x-python",
   "name": "python",
   "nbconvert_exporter": "python",
   "pygments_lexer": "ipython3",
   "version": "3.6.9"
  }
 },
 "nbformat": 4,
 "nbformat_minor": 4
}
