{
 "cells": [
  {
   "cell_type": "markdown",
   "metadata": {},
   "source": [
    "Code based on:\n",
    "Bowles, M. (2019). Machine Learning with Spark and Python: Essential Techniques for Predictive Analytics. John Wiley & Sons."
   ]
  },
  {
   "cell_type": "code",
   "execution_count": null,
   "metadata": {},
   "outputs": [],
   "source": [
    "import matplotlib.pyplot as plt\n",
    "import numpy as np\n",
    "import pandas as pd\n",
    "from pandas import DataFrame\n",
    "from pyspark.sql import SparkSession\n",
    "from pyspark.ml import Pipeline\n",
    "from pyspark.ml.feature import VectorAssembler, StandardScaler, OneHotEncoder, StringIndexer\n",
    "from pyspark.ml.regression import LinearRegression\n",
    "from pyspark.ml.evaluation import RegressionEvaluator"
   ]
  },
  {
   "cell_type": "code",
   "execution_count": null,
   "metadata": {},
   "outputs": [],
   "source": [
    "spark = SparkSession.builder.appName(\"abalone\").getOrCreate()"
   ]
  },
  {
   "cell_type": "code",
   "execution_count": null,
   "metadata": {},
   "outputs": [],
   "source": [
    "from pyspark.sql.types import StructType,StructField,IntegerType,DoubleType,\\\n",
    "                              StringType\n",
    "aba_schema = StructType([\\\n",
    "    StructField(\"Sex\",StringType(),True),\n",
    "    StructField(\"Length\",DoubleType(),True),\n",
    "    StructField(\"Diameter\",DoubleType(),True),\n",
    "    StructField(\"Height\",DoubleType(),True),\n",
    "    StructField(\"Whole\",DoubleType(),True),\n",
    "    StructField(\"Shucked wt\",DoubleType(),True),\n",
    "    StructField(\"Viscera wt\",DoubleType(),True),\n",
    "    StructField(\"Shell wt\",DoubleType(),True),\n",
    "    StructField(\"Rings\",IntegerType(),True)])\n",
    "aba = spark.read.format(\"csv\").option(\"header\", \"False\").schema(aba_schema)\\\n",
    "      .option(\"inferSchema\", \"True\").load(\"Data/abalone/abalone.data\")"
   ]
  },
  {
   "cell_type": "code",
   "execution_count": null,
   "metadata": {
    "scrolled": false
   },
   "outputs": [],
   "source": [
    "aba.show(3)"
   ]
  },
  {
   "cell_type": "code",
   "execution_count": null,
   "metadata": {},
   "outputs": [],
   "source": [
    "num_cols = aba.columns[1:-1]"
   ]
  },
  {
   "cell_type": "code",
   "execution_count": null,
   "metadata": {},
   "outputs": [],
   "source": [
    "string_indexer = StringIndexer(inputCol=\"Sex\", outputCol=\"SexIdx\")"
   ]
  },
  {
   "cell_type": "code",
   "execution_count": null,
   "metadata": {},
   "outputs": [],
   "source": [
    "encoder = OneHotEncoder(inputCols=[string_indexer.getOutputCol()], outputCols=[\"SexVec\"])"
   ]
  },
  {
   "cell_type": "code",
   "execution_count": null,
   "metadata": {},
   "outputs": [],
   "source": [
    "inputs = [\"SexVec\"] + num_cols"
   ]
  },
  {
   "cell_type": "code",
   "execution_count": null,
   "metadata": {},
   "outputs": [],
   "source": [
    "vec_assembler = VectorAssembler(inputCols=inputs,outputCol=\"features\")"
   ]
  },
  {
   "cell_type": "code",
   "execution_count": null,
   "metadata": {},
   "outputs": [],
   "source": [
    "stages = [string_indexer, encoder, vec_assembler]"
   ]
  },
  {
   "cell_type": "code",
   "execution_count": null,
   "metadata": {},
   "outputs": [],
   "source": [
    "pipeline = Pipeline(stages = stages)\n",
    "pipeline_mod = pipeline.fit(aba)\n",
    "aba_transfd = pipeline_mod.transform(aba)\n",
    "inp_aba = aba_transfd.select(['features', 'Rings'])"
   ]
  },
  {
   "cell_type": "code",
   "execution_count": null,
   "metadata": {},
   "outputs": [],
   "source": [
    "inp_aba.show(4)"
   ]
  },
  {
   "cell_type": "code",
   "execution_count": null,
   "metadata": {},
   "outputs": [],
   "source": [
    "train_aba, test_aba = inp_aba.randomSplit([0.7, 0.3], seed = 1234)"
   ]
  },
  {
   "cell_type": "code",
   "execution_count": null,
   "metadata": {},
   "outputs": [],
   "source": [
    "regr_aba = LinearRegression(featuresCol = 'features', labelCol='Rings', maxIter=10, regParam=0.003, elasticNetParam=0.8)"
   ]
  },
  {
   "cell_type": "code",
   "execution_count": null,
   "metadata": {},
   "outputs": [],
   "source": [
    "regr_mod_aba = regr_aba.fit(train_aba)\n",
    "print(\"Weights and intercept: \", regr_mod_aba.coefficients, regr_mod_aba.intercept)"
   ]
  },
  {
   "cell_type": "code",
   "execution_count": null,
   "metadata": {},
   "outputs": [],
   "source": [
    "train_aba_summary = regr_mod_aba.summary\n",
    "print(\"RMSE (training): \", train_aba_summary.rootMeanSquaredError)\n",
    "print(\"R Squared (training):\", train_aba_summary.r2)"
   ]
  },
  {
   "cell_type": "code",
   "execution_count": null,
   "metadata": {},
   "outputs": [],
   "source": [
    "regr_aba_preds = regr_mod_aba.transform(test_aba)\n",
    "regr_aba_preds.select(\"prediction\",\"Rings\",\"features\").show(8)"
   ]
  },
  {
   "cell_type": "code",
   "execution_count": null,
   "metadata": {},
   "outputs": [],
   "source": [
    "regr_eval = RegressionEvaluator(predictionCol=\"prediction\", labelCol=\"Rings\",metricName=\"r2\")\n",
    "print(\"R Squared (test):\", regr_eval.evaluate(regr_aba_preds))"
   ]
  }
 ],
 "metadata": {
  "kernelspec": {
   "display_name": "Python 3",
   "language": "python",
   "name": "python3"
  },
  "language_info": {
   "codemirror_mode": {
    "name": "ipython",
    "version": 3
   },
   "file_extension": ".py",
   "mimetype": "text/x-python",
   "name": "python",
   "nbconvert_exporter": "python",
   "pygments_lexer": "ipython3",
   "version": "3.6.9"
  }
 },
 "nbformat": 4,
 "nbformat_minor": 4
}
