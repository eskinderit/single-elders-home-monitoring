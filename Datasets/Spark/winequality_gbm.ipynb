{
 "cells": [
  {
   "cell_type": "markdown",
   "metadata": {},
   "source": [
    "Code based on: Bowles, M. (2019). Machine Learning with Spark and Python: Essential Techniques for Predictive Analytics. John Wiley & Sons."
   ]
  },
  {
   "cell_type": "code",
   "execution_count": null,
   "metadata": {},
   "outputs": [],
   "source": [
    "import matplotlib.pyplot as plt\n",
    "import numpy as np\n",
    "import pandas as pd\n",
    "from pandas import DataFrame\n",
    "from pyspark.sql import SparkSession\n",
    "from pyspark.ml.feature import VectorAssembler\n",
    "from pyspark.ml.regression import GBTRegressor\n",
    "from pyspark.ml.evaluation import RegressionEvaluator"
   ]
  },
  {
   "cell_type": "code",
   "execution_count": null,
   "metadata": {},
   "outputs": [],
   "source": [
    "spark = SparkSession.builder.appName(\"winequality_gbm\").getOrCreate()"
   ]
  },
  {
   "cell_type": "code",
   "execution_count": null,
   "metadata": {},
   "outputs": [],
   "source": [
    "from pyspark.sql.types import StructType,StructField,DoubleType\n",
    "wineq_schema = StructType([\\\n",
    "    StructField(\"FAcid\",DoubleType(),True),    # 1 - fixed acidity\t\t\t  \n",
    "    StructField(\"VAcid\",DoubleType(),True),    # 2 - volatile acidity\t\t\t  \n",
    "    StructField(\"Citr\",DoubleType(),True),     # 3 - citric acid\t\t\t  \n",
    "    StructField(\"ReSug\",DoubleType(),True),    # 4 - residual sugar\t\t\t  \n",
    "    StructField(\"Chlo\",DoubleType(),True),     # 5 - chlorides\t\t\t\t  \n",
    "    StructField(\"FrSO2\",DoubleType(),True),    # 6 - free sulfur dioxide\t\t  \n",
    "    StructField(\"TSO2\",DoubleType(),True),     # 7 - total sulfur dioxide\t\t  \n",
    "    StructField(\"Den\",DoubleType(),True),      # 8 - density\t\t\t\t  \n",
    "    StructField(\"pH\",DoubleType(),True),       # 9 - pH\t\t\t\t  \n",
    "    StructField(\"Sulph\",DoubleType(),True),    # 10 - sulphates\t\t\t  \n",
    "    StructField(\"Alc\",DoubleType(),True),      # 11 - alcohol\t\t\t\t  \n",
    "    StructField(\"Qual\",DoubleType(),True)])    # 12 - quality (score between 0 and 10)\n",
    "wineq = spark.read.format(\"csv\").option(\"header\", \"True\").option(\"sep\", \";\")\\\n",
    "        .schema(wineq_schema)\\\n",
    "        .load(\"Data/winequality/winequality-red.csv\")"
   ]
  },
  {
   "cell_type": "code",
   "execution_count": null,
   "metadata": {},
   "outputs": [],
   "source": [
    "vecAssembler = VectorAssembler(outputCol=\"features\")"
   ]
  },
  {
   "cell_type": "code",
   "execution_count": null,
   "metadata": {},
   "outputs": [],
   "source": [
    "vecAssembler.setInputCols([\"FAcid\",\"VAcid\",\"Citr\",\"ReSug\",\"Chlo\",\"FrSO2\",\"TSO2\",\"Den\",\"pH\",\"Sulph\",\"Alc\"])"
   ]
  },
  {
   "cell_type": "code",
   "execution_count": null,
   "metadata": {},
   "outputs": [],
   "source": [
    "v_wineq = vecAssembler.transform(wineq)"
   ]
  },
  {
   "cell_type": "code",
   "execution_count": null,
   "metadata": {},
   "outputs": [],
   "source": [
    "inp_wineq = v_wineq.select([\"features\", \"Qual\"])"
   ]
  },
  {
   "cell_type": "code",
   "execution_count": null,
   "metadata": {},
   "outputs": [],
   "source": [
    "train, test = inp_wineq.randomSplit([0.67, 0.33])"
   ]
  },
  {
   "cell_type": "code",
   "execution_count": null,
   "metadata": {},
   "outputs": [],
   "source": [
    "gb_tree = GBTRegressor(featuresCol = 'features', \n",
    "                       labelCol = 'Qual', \n",
    "                       maxIter=100, \n",
    "                       maxDepth=5, \n",
    "                       subsamplingRate=0.5, \n",
    "                       stepSize=0.1)"
   ]
  },
  {
   "cell_type": "code",
   "execution_count": null,
   "metadata": {},
   "outputs": [],
   "source": [
    "gb_tree_mod = gb_tree.fit(train)\n",
    "gb_tree_preds = gb_tree_mod.transform(test)\n",
    "gb_tree_preds.select('prediction', 'Qual').show(3)"
   ]
  },
  {
   "cell_type": "code",
   "execution_count": null,
   "metadata": {},
   "outputs": [],
   "source": [
    "gb_tree_eval = RegressionEvaluator(\n",
    "                    labelCol=\"Qual\", \n",
    "                    predictionCol=\"prediction\", \n",
    "                    metricName=\"rmse\")"
   ]
  },
  {
   "cell_type": "code",
   "execution_count": null,
   "metadata": {},
   "outputs": [],
   "source": [
    "RMSE = gb_tree_eval.evaluate(gb_tree_preds)"
   ]
  },
  {
   "cell_type": "code",
   "execution_count": null,
   "metadata": {},
   "outputs": [],
   "source": [
    "gb_tree_eval = RegressionEvaluator(\n",
    "                    labelCol=\"Qual\", \n",
    "                    predictionCol=\"prediction\", \n",
    "                    metricName=\"r2\")"
   ]
  },
  {
   "cell_type": "code",
   "execution_count": null,
   "metadata": {},
   "outputs": [],
   "source": [
    "R2 = gb_tree_eval.evaluate(gb_tree_preds)"
   ]
  },
  {
   "cell_type": "code",
   "execution_count": null,
   "metadata": {},
   "outputs": [],
   "source": [
    "print(\"RMSE (testing): \", RMSE)\n",
    "print(\"R Squared (testing):\", R2)"
   ]
  }
 ],
 "metadata": {
  "kernelspec": {
   "display_name": "Python 3",
   "language": "python",
   "name": "python3"
  },
  "language_info": {
   "codemirror_mode": {
    "name": "ipython",
    "version": 3
   },
   "file_extension": ".py",
   "mimetype": "text/x-python",
   "name": "python",
   "nbconvert_exporter": "python",
   "pygments_lexer": "ipython3",
   "version": "3.6.9"
  }
 },
 "nbformat": 4,
 "nbformat_minor": 4
}
